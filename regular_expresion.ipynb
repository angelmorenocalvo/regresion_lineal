{
  "nbformat": 4,
  "nbformat_minor": 0,
  "metadata": {
    "colab": {
      "name": "regular_expresion.ipynb",
      "provenance": [],
      "authorship_tag": "ABX9TyM1LtENI9JzdDzlyHkAvKzB",
      "include_colab_link": true
    },
    "kernelspec": {
      "name": "python3",
      "display_name": "Python 3"
    }
  },
  "cells": [
    {
      "cell_type": "markdown",
      "metadata": {
        "id": "view-in-github",
        "colab_type": "text"
      },
      "source": [
        "<a href=\"https://colab.research.google.com/github/angelmorenocalvo/regresion_lineal/blob/master/regular_expresion.ipynb\" target=\"_parent\"><img src=\"https://colab.research.google.com/assets/colab-badge.svg\" alt=\"Open In Colab\"/></a>"
      ]
    },
    {
      "cell_type": "code",
      "metadata": {
        "id": "igIMf_0Qe5Fl",
        "colab_type": "code",
        "colab": {}
      },
      "source": [
        "import re"
      ],
      "execution_count": 0,
      "outputs": []
    },
    {
      "cell_type": "code",
      "metadata": {
        "id": "Li5D_xqoe_3a",
        "colab_type": "code",
        "colab": {}
      },
      "source": [
        "# Expresión regular\n",
        "# COn \"|\" indicamos un \"OR\" con \"\\*\" estamos indicando que los caracteres\n",
        "# anteriores pueden ocurrir N veces, de esta forma si hay espacios seguidos\n",
        "# nos cogera la expresión regular de la misma forma.\n",
        "#\n",
        "# [] indicamos una clase de caracteres \n",
        "# con - indicamos el rango en el que se encuentran.\n",
        "# Con a-z hara match con cualquier minuscula \n",
        "r = \"(hi|hello|hey)[ ]*([a-z]*)\""
      ],
      "execution_count": 0,
      "outputs": []
    },
    {
      "cell_type": "code",
      "metadata": {
        "id": "9rwtm4jQfUtV",
        "colab_type": "code",
        "colab": {
          "base_uri": "https://localhost:8080/",
          "height": 34
        },
        "outputId": "f49705e3-e8dd-44c2-ea61-321727550580"
      },
      "source": [
        "re.match(r,'Hello Rosa', flags = re.IGNORECASE)"
      ],
      "execution_count": 7,
      "outputs": [
        {
          "output_type": "execute_result",
          "data": {
            "text/plain": [
              "<_sre.SRE_Match object; span=(0, 10), match='Hello Rosa'>"
            ]
          },
          "metadata": {
            "tags": []
          },
          "execution_count": 7
        }
      ]
    },
    {
      "cell_type": "code",
      "metadata": {
        "id": "LTyd2B3E_RMF",
        "colab_type": "code",
        "colab": {
          "base_uri": "https://localhost:8080/",
          "height": 34
        },
        "outputId": "b5949305-ab96-4d83-9141-26d6a40d8995"
      },
      "source": [
        "re.match(r, \"hi ho, hi ho, it's off to work...\", flags=re.IGNORECASE)"
      ],
      "execution_count": 6,
      "outputs": [
        {
          "output_type": "execute_result",
          "data": {
            "text/plain": [
              "<_sre.SRE_Match object; span=(0, 5), match='hi ho'>"
            ]
          },
          "metadata": {
            "tags": []
          },
          "execution_count": 6
        }
      ]
    },
    {
      "cell_type": "code",
      "metadata": {
        "id": "4uxp73QJAf7x",
        "colab_type": "code",
        "colab": {
          "base_uri": "https://localhost:8080/",
          "height": 34
        },
        "outputId": "9eec7b69-6bf9-4f68-94b3-7158e0882310"
      },
      "source": [
        "re.match(r, \"hey what's up\", flags=re.IGNORECASE)"
      ],
      "execution_count": 8,
      "outputs": [
        {
          "output_type": "execute_result",
          "data": {
            "text/plain": [
              "<_sre.SRE_Match object; span=(0, 8), match='hey what'>"
            ]
          },
          "metadata": {
            "tags": []
          },
          "execution_count": 8
        }
      ]
    },
    {
      "cell_type": "code",
      "metadata": {
        "id": "8zjulwTZbVPJ",
        "colab_type": "code",
        "colab": {}
      },
      "source": [
        "# Vamos ha hacer la expresión regular más detallada."
      ],
      "execution_count": 0,
      "outputs": []
    }
  ]
}